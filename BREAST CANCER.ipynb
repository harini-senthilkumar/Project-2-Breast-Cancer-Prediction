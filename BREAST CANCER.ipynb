{
 "cells": [
  {
   "cell_type": "code",
   "execution_count": 15,
   "id": "df48ca5a-7af1-4374-9edd-f157f783ff65",
   "metadata": {},
   "outputs": [],
   "source": [
    "import pandas as pd\n",
    "from sklearn.preprocessing import StandardScaler\n",
    "from sklearn.model_selection import train_test_split\n",
    "from sklearn.feature_selection import SelectKBest, chi2\n",
    "from sklearn.preprocessing import PolynomialFeatures\n",
    "from sklearn.svm import SVC\n",
    "from sklearn.metrics import accuracy_score, classification_report, confusion_matrix"
   ]
  },
  {
   "cell_type": "code",
   "execution_count": 11,
   "id": "ff00e900-9031-468d-a9fb-4923bd05895a",
   "metadata": {},
   "outputs": [
    {
     "name": "stdout",
     "output_type": "stream",
     "text": [
      "   radius_mean  texture_mean  perimeter_mean  area_mean  smoothness_mean  \\\n",
      "0    -1.440753     -0.435319       -1.362085  -1.139118         0.780573   \n",
      "1     1.974096      1.733026        2.091672   1.851973         1.319843   \n",
      "2    -1.399982     -1.249622       -1.345209  -1.109785        -1.332645   \n",
      "3    -0.981797      1.416222       -0.982587  -0.866944         0.059390   \n",
      "4    -1.117700     -1.010259       -1.125002  -0.965942         1.269511   \n",
      "\n",
      "   compactness_mean  concavity_mean  concave_points_mean  symmetry_mean  \\\n",
      "0          0.718921        2.823135            -0.119150       1.092662   \n",
      "1          3.426275        2.013112             2.665032       2.127004   \n",
      "2         -0.307355       -0.365558            -0.696502       1.930333   \n",
      "3         -0.596788       -0.820203            -0.845115       0.313264   \n",
      "4         -0.439002       -0.983341            -0.930600       3.394436   \n",
      "\n",
      "   fractal_dimension_mean  ...  radius_worst  texture_worst  perimeter_worst  \\\n",
      "0                2.458173  ...     -1.232861      -0.476309        -1.247920   \n",
      "1                1.558396  ...      2.173314       1.311279         2.081617   \n",
      "2                0.954379  ...     -1.295284      -1.040811        -1.245220   \n",
      "3                0.074041  ...     -0.829197       1.593530        -0.873572   \n",
      "4                0.950213  ...     -1.085129      -1.334616        -1.117138   \n",
      "\n",
      "   area_worst  smoothness_worst  compactness_worst  concavity_worst  \\\n",
      "0   -0.973968          0.722894           1.186732         4.672828   \n",
      "1    2.137405          0.761928           3.265601         1.928621   \n",
      "2   -0.999715         -1.438693          -0.548564        -0.644911   \n",
      "3   -0.742947          0.796624          -0.729392        -0.774950   \n",
      "4   -0.896549         -0.174876          -0.995079        -1.209146   \n",
      "\n",
      "   concave_points_worst  symmetry_worst  fractal_dimension_worst  \n",
      "0              0.932012        2.097242                 1.886450  \n",
      "1              2.698947        1.891161                 2.497838  \n",
      "2             -0.970239        0.597602                 0.057894  \n",
      "3             -0.809483        0.798928                -0.134497  \n",
      "4             -1.354582        1.033544                -0.205732  \n",
      "\n",
      "[5 rows x 30 columns]\n"
     ]
    }
   ],
   "source": [
    "data = pd.read_csv('data.csv')\n",
    "data = data.drop(columns=['id'])\n",
    "X = data.drop(columns=['diagnosis'])\n",
    "y = data['diagnosis']\n",
    "X_train, X_test, y_train, y_test = train_test_split(X, y, test_size=0.2, random_state=42)\n",
    "scaler = StandardScaler()\n",
    "X_train_scaled = scaler.fit_transform(X_train)\n",
    "X_test_scaled = scaler.transform(X_test)\n",
    "preprocessed_data = pd.DataFrame(X_train_scaled, columns=X.columns)\n",
    "print(preprocessed_data.head())"
   ]
  },
  {
   "cell_type": "code",
   "execution_count": 14,
   "id": "ee848f6c-d769-48b8-a936-799a458f53de",
   "metadata": {},
   "outputs": [
    {
     "name": "stdout",
     "output_type": "stream",
     "text": [
      "   feature_1  feature_2  feature_3  feature_4  feature_5  feature_6  \\\n",
      "0      17.99      10.38     122.80     1001.0      8.589     153.40   \n",
      "1      20.57      17.77     132.90     1326.0      3.398      74.08   \n",
      "2      19.69      21.25     130.00     1203.0      4.585      94.03   \n",
      "3      11.42      20.38      77.58      386.1      3.445      27.23   \n",
      "4      20.29      14.34     135.10     1297.0      5.438      94.44   \n",
      "\n",
      "   feature_7  feature_8  feature_9  feature_10 diagnosis  \n",
      "0      25.38      17.33     184.60      2019.0         M  \n",
      "1      24.99      23.41     158.80      1956.0         M  \n",
      "2      23.57      25.53     152.50      1709.0         M  \n",
      "3      14.91      26.50      98.87       567.7         M  \n",
      "4      22.54      16.67     152.20      1575.0         M  \n"
     ]
    }
   ],
   "source": [
    "best_features = SelectKBest(score_func=chi2, k=10)\n",
    "X_best = best_features.fit_transform(X, y)\n",
    "poly = PolynomialFeatures(degree=2, interaction_only=True)\n",
    "X_poly = poly.fit_transform(X)\n",
    "selected_features = pd.DataFrame(X_best, columns=[f'feature_{i+1}' for i in range(X_best.shape[1])])\n",
    "preprocessed_data = pd.concat([selected_features, y], axis=1)\n",
    "print(preprocessed_data.head())"
   ]
  },
  {
   "cell_type": "code",
   "execution_count": 16,
   "id": "b05b7c41-c2f9-458a-938a-3dcd69064036",
   "metadata": {},
   "outputs": [
    {
     "name": "stdout",
     "output_type": "stream",
     "text": [
      "Accuracy: 0.9824561403508771\n",
      "\n",
      "Classification Report:\n",
      "              precision    recall  f1-score   support\n",
      "\n",
      "           B       0.97      1.00      0.99        71\n",
      "           M       1.00      0.95      0.98        43\n",
      "\n",
      "    accuracy                           0.98       114\n",
      "   macro avg       0.99      0.98      0.98       114\n",
      "weighted avg       0.98      0.98      0.98       114\n",
      "\n",
      "\n",
      "Confusion Matrix:\n",
      "[[71  0]\n",
      " [ 2 41]]\n"
     ]
    }
   ],
   "source": [
    "svm_model = SVC(kernel='rbf', random_state=42)  # RBF kernel is commonly used for SVM\n",
    "svm_model.fit(X_train_scaled, y_train)\n",
    "\n",
    "# Predictions\n",
    "y_pred = svm_model.predict(X_test_scaled)\n",
    "\n",
    "# Evaluate the model\n",
    "accuracy = accuracy_score(y_test, y_pred)\n",
    "print(\"Accuracy:\", accuracy)\n",
    "\n",
    "# Classification report\n",
    "print(\"\\nClassification Report:\")\n",
    "print(classification_report(y_test, y_pred))\n",
    "\n",
    "# Confusion matrix\n",
    "print(\"\\nConfusion Matrix:\")\n",
    "print(confusion_matrix(y_test, y_pred))"
   ]
  }
 ],
 "metadata": {
  "kernelspec": {
   "display_name": "Python 3 (ipykernel)",
   "language": "python",
   "name": "python3"
  },
  "language_info": {
   "codemirror_mode": {
    "name": "ipython",
    "version": 3
   },
   "file_extension": ".py",
   "mimetype": "text/x-python",
   "name": "python",
   "nbconvert_exporter": "python",
   "pygments_lexer": "ipython3",
   "version": "3.11.4"
  }
 },
 "nbformat": 4,
 "nbformat_minor": 5
}
